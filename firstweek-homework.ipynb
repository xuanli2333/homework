{
 "cells": [
  {
   "cell_type": "markdown",
   "metadata": {},
   "source": [
    "第一题"
   ]
  },
  {
   "cell_type": "code",
   "execution_count": 176,
   "metadata": {},
   "outputs": [
    {
     "name": "stdout",
     "output_type": "stream",
     "text": [
      "['apple', 'pear', 'orange', 'pinapple', 'mandarin']\n"
     ]
    }
   ],
   "source": [
    "list1=['apple', 'pear', 'orange', 'pinapple', 'mandarin']\n",
    "print(list1)"
   ]
  },
  {
   "cell_type": "markdown",
   "metadata": {},
   "source": [
    "第二题"
   ]
  },
  {
   "cell_type": "code",
   "execution_count": 177,
   "metadata": {},
   "outputs": [
    {
     "name": "stdout",
     "output_type": "stream",
     "text": [
      "I found it!\n"
     ]
    }
   ],
   "source": [
    "for i in range(len(list1)):\n",
    "    if list1[i]=='apple' :\n",
    "        print('I found it!')"
   ]
  },
  {
   "cell_type": "markdown",
   "metadata": {},
   "source": [
    "第三题"
   ]
  },
  {
   "cell_type": "code",
   "execution_count": 178,
   "metadata": {},
   "outputs": [
    {
     "name": "stdout",
     "output_type": "stream",
     "text": [
      "['apple', 'pear', 'orange', 'pinapple', 'mandarin', 'bannana', 'kiwi']\n"
     ]
    }
   ],
   "source": [
    "list1.append('bannana')\n",
    "list1.append('kiwi')\n",
    "print(list1)"
   ]
  },
  {
   "cell_type": "markdown",
   "metadata": {},
   "source": [
    "第四题"
   ]
  },
  {
   "cell_type": "code",
   "execution_count": 179,
   "metadata": {},
   "outputs": [
    {
     "name": "stdout",
     "output_type": "stream",
     "text": [
      "apple has 5 letters\n",
      "pear has 4 letters\n",
      "orange has 6 letters\n",
      "pinapple has 8 letters\n",
      "mandarin has 8 letters\n",
      "bannana has 7 letters\n",
      "kiwi has 4 letters\n"
     ]
    }
   ],
   "source": [
    "list2=[]\n",
    "for i in range(len(list1)):\n",
    "    a=list1[i]+' has '+str(len(list1[i]))+' letters'\n",
    "    print(a)\n",
    "    list2.append(a)"
   ]
  },
  {
   "cell_type": "markdown",
   "metadata": {},
   "source": [
    "第五题"
   ]
  },
  {
   "cell_type": "code",
   "execution_count": 180,
   "metadata": {},
   "outputs": [],
   "source": [
    "def half_squared(list):\n",
    "    lis=[]\n",
    "    for i in range(len(list)):\n",
    "        sqr=list[i]*list[i]/2\n",
    "        lis.append(sqr)\n",
    "    return lis"
   ]
  },
  {
   "cell_type": "code",
   "execution_count": 181,
   "metadata": {},
   "outputs": [
    {
     "data": {
      "text/plain": [
       "True"
      ]
     },
     "execution_count": 181,
     "metadata": {},
     "output_type": "execute_result"
    }
   ],
   "source": [
    "half_squared([3,3]) == [4.5,4.5]"
   ]
  },
  {
   "cell_type": "markdown",
   "metadata": {},
   "source": [
    "第六题"
   ]
  },
  {
   "cell_type": "code",
   "execution_count": 182,
   "metadata": {},
   "outputs": [
    {
     "name": "stdout",
     "output_type": "stream",
     "text": [
      "input the score100\n",
      "A\n"
     ]
    }
   ],
   "source": [
    "a = int(input('input the score'))\n",
    "if (a >= 90) & (a <= 100):\n",
    "    print('A')\n",
    "elif (a >= 60) & (a <= 89) :\n",
    "    print('B')\n",
    "elif (a >= 0) & (a <= 59):\n",
    "    print('C')\n",
    "else:\n",
    "    print('the score is error!')"
   ]
  },
  {
   "cell_type": "markdown",
   "metadata": {},
   "source": [
    "第七题"
   ]
  },
  {
   "cell_type": "code",
   "execution_count": 183,
   "metadata": {},
   "outputs": [],
   "source": [
    "def revSort(a,b,c):\n",
    "    if a<b:\n",
    "        a,b=b,a\n",
    "    if b<c:\n",
    "        b,c=c,b\n",
    "    if a<b:\n",
    "        a,b=b,a\n",
    "    return (a,b,c)"
   ]
  },
  {
   "cell_type": "code",
   "execution_count": 184,
   "metadata": {},
   "outputs": [
    {
     "data": {
      "text/plain": [
       "(32, 12, 4)"
      ]
     },
     "execution_count": 184,
     "metadata": {},
     "output_type": "execute_result"
    }
   ],
   "source": [
    "revSort(12,4,32)"
   ]
  },
  {
   "cell_type": "markdown",
   "metadata": {},
   "source": [
    "第八题"
   ]
  },
  {
   "cell_type": "code",
   "execution_count": 185,
   "metadata": {},
   "outputs": [],
   "source": [
    "list1 = [1,2,3]\n",
    "list2 = [4,5,6]\n",
    "array = [list1,list2]\n"
   ]
  },
  {
   "cell_type": "code",
   "execution_count": 186,
   "metadata": {},
   "outputs": [
    {
     "data": {
      "text/plain": [
       "[1, 2, 3, 4, 5, 6]"
      ]
     },
     "execution_count": 186,
     "metadata": {},
     "output_type": "execute_result"
    }
   ],
   "source": [
    "def tra(array):\n",
    "    array1=[]\n",
    "    for i in range(len(array)):\n",
    "        for j in range(len(array[i])):\n",
    "            array1.append(array[i][j])\n",
    "    return array1\n",
    "tra(array)"
   ]
  },
  {
   "cell_type": "markdown",
   "metadata": {},
   "source": [
    "第九题"
   ]
  },
  {
   "cell_type": "code",
   "execution_count": 187,
   "metadata": {},
   "outputs": [],
   "source": [
    "def f(x):\n",
    "    return x**3\n",
    "def sum(x):\n",
    "    sum=0\n",
    "    for i in range(len(str(x))):\n",
    "        sum=sum+int(str(x)[i])\n",
    "    return sum\n",
    "def find():\n",
    "    for i in range(100):\n",
    "        if i == sum(f(i)):\n",
    "            print(i,end=\" \")"
   ]
  },
  {
   "cell_type": "code",
   "execution_count": 188,
   "metadata": {},
   "outputs": [
    {
     "name": "stdout",
     "output_type": "stream",
     "text": [
      "0 1 8 17 18 26 27 "
     ]
    }
   ],
   "source": [
    "find()"
   ]
  },
  {
   "cell_type": "markdown",
   "metadata": {},
   "source": [
    "第十题"
   ]
  },
  {
   "cell_type": "code",
   "execution_count": 189,
   "metadata": {},
   "outputs": [
    {
     "name": "stdout",
     "output_type": "stream",
     "text": [
      "9 1\n",
      "1 9\n"
     ]
    }
   ],
   "source": [
    "import random\n",
    "x = random.randint(1,10)\n",
    "y = random.randint(1,10)\n",
    "print(x,y)\n",
    "x,y=y,x\n",
    "print(x,y)"
   ]
  },
  {
   "cell_type": "markdown",
   "metadata": {},
   "source": [
    "第十一题"
   ]
  },
  {
   "cell_type": "code",
   "execution_count": 190,
   "metadata": {},
   "outputs": [
    {
     "name": "stdout",
     "output_type": "stream",
     "text": [
      "   *   \n",
      "  ***  \n",
      " ***** \n",
      "*******\n",
      " ***** \n",
      "  ***  \n",
      "   *   \n"
     ]
    }
   ],
   "source": [
    "a=-1\n",
    "for i in range(1,8):\n",
    "    if i<=4:\n",
    "        a = a+2\n",
    "    else:\n",
    "        a = a-2\n",
    "    for j in range(int((7-a)/2)):\n",
    "        print(\" \",end=\"\")\n",
    "    for j in range(a):\n",
    "        print(\"*\",end=\"\")\n",
    "    for j in range(int((7-a)/2)):\n",
    "        print(\" \",end=\"\")\n",
    "    print()"
   ]
  },
  {
   "cell_type": "markdown",
   "metadata": {},
   "source": [
    "第十二题"
   ]
  },
  {
   "cell_type": "code",
   "execution_count": 191,
   "metadata": {},
   "outputs": [
    {
     "name": "stdout",
     "output_type": "stream",
     "text": [
      "123456\n",
      "234561\n",
      "345612\n",
      "456123\n",
      "561234\n",
      "612345\n"
     ]
    }
   ],
   "source": [
    "for i in range(1,7):\n",
    "    for j in range(i,7):\n",
    "        print(j,end=\"\")\n",
    "    for j in range(1,i):\n",
    "        print(j,end=\"\")\n",
    "    print()"
   ]
  },
  {
   "cell_type": "markdown",
   "metadata": {},
   "source": [
    "第十三题"
   ]
  },
  {
   "cell_type": "code",
   "execution_count": 192,
   "metadata": {},
   "outputs": [
    {
     "name": "stdout",
     "output_type": "stream",
     "text": [
      "['Martina', 'Michael', 'Florence']\n",
      "['Charles', 'Martina']\n",
      "['Michael', 'Florence', 'Eli']\n",
      "['Michael', 'Florence']\n"
     ]
    }
   ],
   "source": [
    "players = ['charles','martina','michael','florence','eli']\n",
    "players1 =[]\n",
    "for i in range(len(players)):\n",
    "    players1.append(players[i].title())\n",
    "print(players1[1:4])\n",
    "print(players1[:2])\n",
    "print(players1[2:])\n",
    "print(players1[-3:-1])"
   ]
  },
  {
   "cell_type": "code",
   "execution_count": null,
   "metadata": {},
   "outputs": [],
   "source": []
  }
 ],
 "metadata": {
  "kernelspec": {
   "display_name": "Python 3",
   "language": "python",
   "name": "python3"
  },
  "language_info": {
   "codemirror_mode": {
    "name": "ipython",
    "version": 3
   },
   "file_extension": ".py",
   "mimetype": "text/x-python",
   "name": "python",
   "nbconvert_exporter": "python",
   "pygments_lexer": "ipython3",
   "version": "3.6.5"
  }
 },
 "nbformat": 4,
 "nbformat_minor": 2
}
